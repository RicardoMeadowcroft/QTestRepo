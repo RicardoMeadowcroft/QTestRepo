{
 "cells": [
  {
   "cell_type": "code",
   "execution_count": 3,
   "id": "28d65233",
   "metadata": {},
   "outputs": [],
   "source": [
    "from braket.aws import AwsDevice, AwsQuantumTask\n",
    "from braket.circuits import Circuit\n",
    "from braket.devices import LocalSimulator"
   ]
  },
  {
   "cell_type": "code",
   "execution_count": 2,
   "id": "abfbca45",
   "metadata": {},
   "outputs": [],
   "source": [
    "# Set the number of shots \n",
    "n_shots = 10\n"
   ]
  },
  {
   "cell_type": "code",
   "execution_count": 7,
   "id": "5f16b7e6",
   "metadata": {},
   "outputs": [],
   "source": [
    "# Use SV1 device\n",
    "device = AwsDevice(\"arn:aws:braket:::device/quantum-simulator/amazon/sv1\")"
   ]
  },
  {
   "cell_type": "code",
   "execution_count": 20,
   "id": "6c6e0720",
   "metadata": {},
   "outputs": [],
   "source": [
    "# Set the S3 bucket and folder name\n",
    "my_bucket = \"amazon-braket-rmeadowc\" \n",
    "my_prefix = \"/jobs\" \n",
    "s3_folder = (my_bucket, my_prefix)"
   ]
  },
  {
   "cell_type": "code",
   "execution_count": 21,
   "id": "8f5e0cfe",
   "metadata": {},
   "outputs": [
    {
     "name": "stdout",
     "output_type": "stream",
     "text": [
      "T  : |0|1|\n",
      "          \n",
      "q0 : -H-C-\n",
      "        | \n",
      "q1 : ---X-\n",
      "\n",
      "T  : |0|1|\n"
     ]
    }
   ],
   "source": [
    "circ = Circuit().h(0).cnot(0, 1)\n",
    "print(circ)"
   ]
  },
  {
   "cell_type": "code",
   "execution_count": 22,
   "id": "63c0fc1a",
   "metadata": {},
   "outputs": [
    {
     "name": "stdout",
     "output_type": "stream",
     "text": [
      "Counter({'11': 6, '00': 4})\n"
     ]
    }
   ],
   "source": [
    "result = device.run(circ, s3_folder, shots = n_shots).result()\n",
    "counts = result.measurement_counts\n",
    "print(counts)"
   ]
  },
  {
   "cell_type": "markdown",
   "id": "2fb94c94",
   "metadata": {},
   "source": [
    "# Checking place accesibility"
   ]
  },
  {
   "cell_type": "code",
   "execution_count": 27,
   "id": "68178eea",
   "metadata": {},
   "outputs": [],
   "source": [
    "def available_devices():\n",
    "    from braket.aws import AwsDevice\n",
    "    device_list=AwsDevice.get_devices(statuses=['ONLINE'])\n",
    "    device_name_list=[]\n",
    "    for device in device_list:\n",
    "        device_name_list.append(device.name)\n",
    "    #print('Valid device names: ',device_name_list)\n",
    "    return(device_name_list)"
   ]
  },
  {
   "cell_type": "code",
   "execution_count": 28,
   "id": "b21c9da6",
   "metadata": {},
   "outputs": [
    {
     "data": {
      "text/plain": [
       "['Advantage_system4.1',\n",
       " 'Advantage_system6.1',\n",
       " 'Aspen-M-2',\n",
       " 'Borealis',\n",
       " 'DW_2000Q_6',\n",
       " 'IonQ Device',\n",
       " 'Lucy',\n",
       " 'SV1',\n",
       " 'TN1',\n",
       " 'dm1']"
      ]
     },
     "execution_count": 28,
     "metadata": {},
     "output_type": "execute_result"
    }
   ],
   "source": [
    "available_devices()"
   ]
  },
  {
   "cell_type": "code",
   "execution_count": 30,
   "id": "f0536b0a",
   "metadata": {},
   "outputs": [],
   "source": [
    "def set_device(Name):\n",
    "    device_list=AwsDevice.get_devices(names=Name)\n",
    "    if len(device_list)==1:\n",
    "        device=device_list[0]\n",
    "        print(device)\n",
    "        return(device)\n",
    "    else:\n",
    "        print('No device found')\n",
    "        print('use name from list', available_devices())"
   ]
  },
  {
   "cell_type": "markdown",
   "id": "8caf2a59",
   "metadata": {},
   "source": [
    "# Cost Estimation"
   ]
  },
  {
   "cell_type": "code",
   "execution_count": 29,
   "id": "643313be",
   "metadata": {},
   "outputs": [],
   "source": [
    "device = LocalSimulator()"
   ]
  },
  {
   "cell_type": "code",
   "execution_count": 34,
   "id": "6f6551b7",
   "metadata": {},
   "outputs": [
    {
     "name": "stdout",
     "output_type": "stream",
     "text": [
      "Device('name': Advantage_system4.1, 'arn': arn:aws:braket:::device/qpu/d-wave/Advantage_system4)\n"
     ]
    }
   ],
   "source": [
    "device=set_device('Advantage_system4.1')"
   ]
  },
  {
   "cell_type": "code",
   "execution_count": 32,
   "id": "eec95ab3",
   "metadata": {},
   "outputs": [],
   "source": [
    "def estimate_cost(device,num_shots=1000):\n",
    "    #device=set_device(Name)\n",
    "    cost_per_task=0.30\n",
    "    Name=device.name\n",
    "    if Name in ['SV1','TN1','dm1']:\n",
    "        price_per_min = device.properties.service.deviceCost.price\n",
    "        unit = device.properties.service.deviceCost.unit\n",
    "        print('simulator cost per ',unit,': $', price_per_min)\n",
    "        print('total cost cannot be estimated')\n",
    "    elif Name in['Advantage_system6.1', 'Advantage_system4.1','DW_2000Q_6', 'Aspen-M-1','IonQ Device']:\n",
    "        price_per_shot = device.properties.service.deviceCost.price\n",
    "        unit = device.properties.service.deviceCost.unit\n",
    "        print('device cost per ',unit,': $', price_per_shot)\n",
    "        print('total cost for {} shots is ${:.2f}'.format(num_shots,\n",
    "        cost_per_task+num_shots*price_per_shot))\n",
    "    else:\n",
    "        print('device not found')\n",
    "        print('use name from list', available_devices())"
   ]
  },
  {
   "cell_type": "code",
   "execution_count": 35,
   "id": "091a027a",
   "metadata": {},
   "outputs": [
    {
     "name": "stdout",
     "output_type": "stream",
     "text": [
      "device cost per  shot : $ 0.00019\n",
      "total cost for 1000 shots is $0.49\n"
     ]
    }
   ],
   "source": [
    "estimate_cost(device)"
   ]
  },
  {
   "cell_type": "code",
   "execution_count": 36,
   "id": "8f33d8f3",
   "metadata": {},
   "outputs": [],
   "source": [
    "def estimate_cost_measured_qubits(device,measured_qubits):\n",
    "    #device=set_device(Name)\n",
    "    min_shots_per_variable=25\n",
    "    max_shots=device.properties.service.shotsRange[1]\n",
    "    print('max shots:', max_shots)\n",
    "    num_shots = min_shots_per_variable*2**measured_qubits\n",
    "    if num_shots>max_shots:\n",
    "        num_shots=max_shots\n",
    "        print('for {} measured qubits the maximum allowed shots: {:,}'.format(measured_qubits,num_shots))\n",
    "    else:\n",
    "        print('for {} measured qubits the number of shots recommended: {:,}'.format(measured_qubits,num_shots))\n",
    "    estimate_cost(device,num_shots)"
   ]
  },
  {
   "cell_type": "code",
   "execution_count": 37,
   "id": "507649f9",
   "metadata": {},
   "outputs": [
    {
     "name": "stdout",
     "output_type": "stream",
     "text": [
      "Device('name': IonQ Device, 'arn': arn:aws:braket:::device/qpu/ionq/ionQdevice)\n",
      "max shots: 10000\n",
      "for 5 measured qubits the number of shots recommended: 800\n",
      "device cost per  shot : $ 0.01\n",
      "total cost for 800 shots is $8.30\n"
     ]
    }
   ],
   "source": [
    "device=set_device('IonQ Device')\n",
    "estimate_cost_measured_qubits(device, 5)"
   ]
  },
  {
   "cell_type": "code",
   "execution_count": 38,
   "id": "7dc8afdb",
   "metadata": {},
   "outputs": [
    {
     "name": "stdout",
     "output_type": "stream",
     "text": [
      "Device('name': Advantage_system6.1, 'arn': arn:aws:braket:us-west-2::device/qpu/d-wave/Advantage_system6)\n",
      "max shots: 10000\n",
      "for 5760 measured qubits the maximum allowed shots: 10,000\n",
      "device cost per  shot : $ 0.00019\n",
      "total cost for 10000 shots is $2.20\n",
      "---\n",
      "Device('name': Advantage_system4.1, 'arn': arn:aws:braket:::device/qpu/d-wave/Advantage_system4)\n",
      "max shots: 10000\n",
      "for 5760 measured qubits the maximum allowed shots: 10,000\n",
      "device cost per  shot : $ 0.00019\n",
      "total cost for 10000 shots is $2.20\n",
      "---\n",
      "Device('name': DW_2000Q_6, 'arn': arn:aws:braket:::device/qpu/d-wave/DW_2000Q_6)\n",
      "max shots: 10000\n",
      "for 2048 measured qubits the maximum allowed shots: 10,000\n",
      "device cost per  shot : $ 0.00019\n",
      "total cost for 10000 shots is $2.20\n",
      "---\n"
     ]
    }
   ],
   "source": [
    "for Name in ['Advantage_system6.1','Advantage_system4.1','DW_2000Q_6']:\n",
    "    device=set_device(Name)\n",
    "    qubit_count = device.properties.provider.qubitCount\n",
    "    estimate_cost_measured_qubits(device, qubit_count)\n",
    "    print('---') "
   ]
  },
  {
   "cell_type": "markdown",
   "id": "02eac481",
   "metadata": {},
   "source": [
    "# Simple Test"
   ]
  },
  {
   "cell_type": "code",
   "execution_count": 39,
   "id": "b4fc15a3",
   "metadata": {},
   "outputs": [],
   "source": [
    "from braket.circuits import Circuit, Gate, Observable\n",
    "from braket.devices import LocalSimulator\n",
    "from braket.aws import AwsDevice\n",
    "import matplotlib.pyplot as plt\n",
    "%matplotlib inline"
   ]
  },
  {
   "cell_type": "code",
   "execution_count": 40,
   "id": "3522fe40",
   "metadata": {},
   "outputs": [
    {
     "name": "stdout",
     "output_type": "stream",
     "text": [
      "T  : |0|\n",
      "        \n",
      "q0 : -I-\n",
      "        \n",
      "q1 : -X-\n",
      "\n",
      "T  : |0|\n"
     ]
    }
   ],
   "source": [
    "bits = Circuit().i(0).x(1)\n",
    "print(bits)"
   ]
  },
  {
   "cell_type": "code",
   "execution_count": 41,
   "id": "9095e6bc",
   "metadata": {},
   "outputs": [
    {
     "name": "stdout",
     "output_type": "stream",
     "text": [
      "Counter({'01': 1000})\n"
     ]
    },
    {
     "data": {
      "image/png": "[encoded data removed]",
      "text/plain": [
       "<Figure size 640x480 with 1 Axes>"
      ]
     },
     "metadata": {},
     "output_type": "display_data"
    }
   ],
   "source": [
    "device = LocalSimulator()\n",
    "result = device.run(bits, shots=1000).result()\n",
    "counts = result.measurement_counts\n",
    "print(counts)\n",
    "plt.bar(counts.keys(), counts.values());\n",
    "plt.xlabel('states');\n",
    "plt.ylabel('counts');"
   ]
  },
  {
   "cell_type": "code",
   "execution_count": 49,
   "id": "b6f0a758",
   "metadata": {},
   "outputs": [],
   "source": [
    "def build_binary_circ(N):\n",
    "    binary_num=bin(N)[2:]\n",
    "    num_qubits=len(binary_num)\n",
    "    print(binary_num)\n",
    "    binary_circuit=Circuit()\n",
    "    position=0\n",
    "    for bit in binary_num:\n",
    "        #print(bit)\n",
    "        if bit=='0':\n",
    "            binary_circuit.i(position)\n",
    "        else:\n",
    "            binary_circuit.x(position)\n",
    "        position+=1\n",
    "    return(binary_circuit)"
   ]
  },
  {
   "cell_type": "code",
   "execution_count": 50,
   "id": "3e3b357f",
   "metadata": {},
   "outputs": [
    {
     "name": "stdout",
     "output_type": "stream",
     "text": [
      "110\n",
      "T  : |0|\n",
      "        \n",
      "q0 : -X-\n",
      "        \n",
      "q1 : -X-\n",
      "        \n",
      "q2 : -I-\n",
      "\n",
      "T  : |0|\n"
     ]
    }
   ],
   "source": [
    "binary_circuit=build_binary_circ(6)\n",
    "print(binary_circuit)"
   ]
  },
  {
   "cell_type": "code",
   "execution_count": 45,
   "id": "14f88ac3",
   "metadata": {},
   "outputs": [
    {
     "name": "stdout",
     "output_type": "stream",
     "text": [
      "Counter({'110': 1000})\n"
     ]
    }
   ],
   "source": [
    "device = LocalSimulator()\n",
    "result = device.run(binary_circuit, shots=1000).result()\n",
    "counts = result.measurement_counts\n",
    "print(counts)"
   ]
  },
  {
   "cell_type": "code",
   "execution_count": 46,
   "id": "f3355e74",
   "metadata": {},
   "outputs": [],
   "source": [
    "def run_circuit(device, circuit, shots, s3_folder):\n",
    "    import matplotlib.pyplot as plt\n",
    "    %matplotlib inline\n",
    "    result = device.run(binary_circuit, shots=shots,s3_destination_folder=s3_folder).result()\n",
    "    counts = result.measurement_counts\n",
    "    print(counts)\n",
    "    plt.bar(counts.keys(), counts.values());\n",
    "    plt.xlabel('states');\n",
    "    plt.ylabel('counts');\n",
    "    return(result)\n"
   ]
  },
  {
   "cell_type": "code",
   "execution_count": 47,
   "id": "ea8dc079",
   "metadata": {},
   "outputs": [],
   "source": [
    "def actual_simulator_cost(device, result):\n",
    "    price_per_min=device.properties.service.deviceCost.price\n",
    "    price_per_ms=price_per_min/60/1000\n",
    "    unit=device.properties.service.deviceCost.unit\n",
    "    duration_ms=result.additional_metadata.simulatorMetadata.executionDuration\n",
    "    if unit=='minute':\n",
    "        print('simulator cost per ',unit,': $', price_per_min)\n",
    "        print('total execution time: ', duration_ms, \"ms\")\n",
    "        print('total cost estimated:$',duration_ms*price_per_ms)"
   ]
  },
  {
   "cell_type": "code",
   "execution_count": 51,
   "id": "4d4f6ab0",
   "metadata": {},
   "outputs": [
    {
     "name": "stdout",
     "output_type": "stream",
     "text": [
      "qubit count:  12\n",
      "101101010000\n",
      "T   : |0|\n",
      "         \n",
      "q0  : -X-\n",
      "         \n",
      "q1  : -I-\n",
      "         \n",
      "q2  : -X-\n",
      "         \n",
      "q3  : -X-\n",
      "         \n",
      "q4  : -I-\n",
      "         \n",
      "q5  : -X-\n",
      "         \n",
      "q6  : -I-\n",
      "         \n",
      "q7  : -X-\n",
      "         \n",
      "q8  : -I-\n",
      "         \n",
      "q9  : -I-\n",
      "         \n",
      "q10 : -I-\n",
      "         \n",
      "q11 : -I-\n",
      "\n",
      "T   : |0|\n"
     ]
    }
   ],
   "source": [
    "N=2896\n",
    "qubit_count=len(bin(N))-2\n",
    "print('qubit count: ', qubit_count)\n",
    "binary_circuit=build_binary_circ(N)\n",
    "print(binary_circuit)"
   ]
  },
  {
   "cell_type": "code",
   "execution_count": 52,
   "id": "60900f3b",
   "metadata": {},
   "outputs": [
    {
     "name": "stdout",
     "output_type": "stream",
     "text": [
      "Device('name': SV1, 'arn': arn:aws:braket:::device/quantum-simulator/amazon/sv1)\n",
      "max shots: 100000\n",
      "for 12 measured qubits the maximum allowed shots: 100,000\n",
      "simulator cost per  minute : $ 0.075\n",
      "total cost cannot be estimated\n"
     ]
    }
   ],
   "source": [
    "device=set_device('SV1')\n",
    "estimate_cost_measured_qubits(device, qubit_count)"
   ]
  },
  {
   "cell_type": "code",
   "execution_count": 53,
   "id": "923f994e",
   "metadata": {},
   "outputs": [
    {
     "name": "stdout",
     "output_type": "stream",
     "text": [
      "Counter({'101101010000': 10})\n"
     ]
    },
    {
     "data": {
      "image/png": "[encoded data removed]",
      "text/plain": [
       "<Figure size 640x480 with 1 Axes>"
      ]
     },
     "metadata": {},
     "output_type": "display_data"
    }
   ],
   "source": [
    "result=run_circuit(device, binary_circuit, 10, s3_folder)"
   ]
  },
  {
   "cell_type": "code",
   "execution_count": 54,
   "id": "02ea982a",
   "metadata": {},
   "outputs": [
    {
     "name": "stdout",
     "output_type": "stream",
     "text": [
      "simulator cost per  minute : $ 0.075\n",
      "total execution time:  6 ms\n",
      "total cost estimated:$ 7.500000000000001e-06\n"
     ]
    }
   ],
   "source": [
    "actual_simulator_cost(device, result)"
   ]
  },
  {
   "cell_type": "code",
   "execution_count": null,
   "id": "190ee58c",
   "metadata": {},
   "outputs": [],
   "source": []
  }
 ],
 "metadata": {
  "kernelspec": {
   "display_name": "Python 3 (ipykernel)",
   "language": "python",
   "name": "python3"
  },
  "language_info": {
   "codemirror_mode": {
    "name": "ipython",
    "version": 3
   },
   "file_extension": ".py",
   "mimetype": "text/x-python",
   "name": "python",
   "nbconvert_exporter": "python",
   "pygments_lexer": "ipython3",
   "version": "3.10.6"
  }
 },
 "nbformat": 4,
 "nbformat_minor": 5
}
